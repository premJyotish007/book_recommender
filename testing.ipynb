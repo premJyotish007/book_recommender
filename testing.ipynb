{
 "cells": [
  {
   "cell_type": "code",
   "execution_count": 47,
   "metadata": {},
   "outputs": [],
   "source": [
    "import pandas as pd\n",
    "import NLP\n",
    "from sklearn.cluster import KMeans\n",
    "from sklearn import metrics\n",
    "from matplotlib import pyplot as plt\n",
    "nlp = NLP.Analyze()"
   ]
  },
  {
   "cell_type": "code",
   "execution_count": 48,
   "metadata": {},
   "outputs": [],
   "source": [
    "df = pd.read_csv(\"music_api/sample.csv\")"
   ]
  },
  {
   "cell_type": "code",
   "execution_count": 49,
   "metadata": {},
   "outputs": [],
   "source": [
    "columns = [col for col in df.columns if col not in [\"artist\" , \"song\", \"type\", \"id\", \"uri\",\t\"track_href\", \"analysis_url\", \"lyrics\"\n",
    "]]\n",
    "def optimal_k_means(num_clusters):\n",
    "    sil_arr = {}\n",
    "    for n in range(4, num_clusters):\n",
    "        kmeans = KMeans(n_clusters = n, random_state = 1).fit(df[columns])\n",
    "        score = metrics.silhouette_score(df[columns], kmeans.labels_, metric = 'euclidean')\n",
    "        sil_arr[n] = score\n",
    "    max_score = max(sil_arr.values())\n",
    "    plt.plot(sil_arr.keys(), sil_arr.values())\n",
    "    for key, value in sil_arr.items():\n",
    "        if (value == max_score):\n",
    "            return key"
   ]
  },
  {
   "cell_type": "code",
   "execution_count": 50,
   "metadata": {},
   "outputs": [
    {
     "name": "stdout",
     "output_type": "stream",
     "text": [
      "0 62\n",
      "1 60\n",
      "2 89\n",
      "3 20\n",
      "4 3\n",
      "5 10\n",
      "6 13\n",
      "7 89\n",
      "8 33\n",
      "9 2\n",
      "10 115\n",
      "11 76\n",
      "12 14\n",
      "13 84\n",
      "14 42\n",
      "15 12\n",
      "16 18\n",
      "17 37\n",
      "18 1\n",
      "19 24\n",
      "20 88\n",
      "21 96\n",
      "22 3\n",
      "23 79\n",
      "24 22\n",
      "25 130\n",
      "26 45\n",
      "27 4\n",
      "28 31\n",
      "29 110\n",
      "30 16\n",
      "31 24\n",
      "32 68\n",
      "33 4\n",
      "34 43\n",
      "35 18\n",
      "36 118\n",
      "37 24\n",
      "38 18\n",
      "39 101\n",
      "40 11\n",
      "41 89\n",
      "42 66\n",
      "43 2\n",
      "44 84\n",
      "45 43\n",
      "46 65\n"
     ]
    }
   ],
   "source": [
    "kmeans = KMeans(n_clusters = 47, random_state = 1).fit(df[columns])\n",
    "df[\"cluster\"] = kmeans.predict(df[columns])\n",
    "cluster_map = {}\n",
    "for c in range(47):\n",
    "    print(c, len(df[df[\"cluster\"] == c]))"
   ]
  },
  {
   "cell_type": "code",
   "execution_count": 51,
   "metadata": {},
   "outputs": [
    {
     "name": "stdout",
     "output_type": "stream",
     "text": [
      "Searching for \"We don't talk anymore\" by Charlie Puth...\n",
      "Done.\n"
     ]
    }
   ],
   "source": [
    "import music_api.track_analysis as track_a\n",
    "ta = track_a.TrackAnalysis()\n",
    "\n",
    "song = ta.get_track_info(\"We don't talk anymore\")\n",
    "df_song = pd.DataFrame(song, index = [0])"
   ]
  },
  {
   "cell_type": "code",
   "execution_count": 52,
   "metadata": {},
   "outputs": [
    {
     "data": {
      "text/html": [
       "<div>\n",
       "<style scoped>\n",
       "    .dataframe tbody tr th:only-of-type {\n",
       "        vertical-align: middle;\n",
       "    }\n",
       "\n",
       "    .dataframe tbody tr th {\n",
       "        vertical-align: top;\n",
       "    }\n",
       "\n",
       "    .dataframe thead th {\n",
       "        text-align: right;\n",
       "    }\n",
       "</style>\n",
       "<table border=\"1\" class=\"dataframe\">\n",
       "  <thead>\n",
       "    <tr style=\"text-align: right;\">\n",
       "      <th></th>\n",
       "      <th>danceability</th>\n",
       "      <th>energy</th>\n",
       "      <th>key</th>\n",
       "      <th>loudness</th>\n",
       "      <th>mode</th>\n",
       "      <th>speechiness</th>\n",
       "      <th>acousticness</th>\n",
       "      <th>instrumentalness</th>\n",
       "      <th>liveness</th>\n",
       "      <th>valence</th>\n",
       "      <th>...</th>\n",
       "      <th>duration_ms</th>\n",
       "      <th>time_signature</th>\n",
       "      <th>artist</th>\n",
       "      <th>song</th>\n",
       "      <th>lyrics</th>\n",
       "      <th>sadness</th>\n",
       "      <th>joy</th>\n",
       "      <th>fear</th>\n",
       "      <th>disgust</th>\n",
       "      <th>anger</th>\n",
       "    </tr>\n",
       "  </thead>\n",
       "  <tbody>\n",
       "    <tr>\n",
       "      <th>0</th>\n",
       "      <td>0.728</td>\n",
       "      <td>0.563</td>\n",
       "      <td>1</td>\n",
       "      <td>-8.053</td>\n",
       "      <td>0</td>\n",
       "      <td>0.134</td>\n",
       "      <td>0.621</td>\n",
       "      <td>0</td>\n",
       "      <td>0.179</td>\n",
       "      <td>0.352</td>\n",
       "      <td>...</td>\n",
       "      <td>217707</td>\n",
       "      <td>4</td>\n",
       "      <td>Charlie Puth</td>\n",
       "      <td>We don't talk anymore</td>\n",
       "      <td>We don't talk anymore, we don't talk anymore\\n...</td>\n",
       "      <td>0.445186</td>\n",
       "      <td>0.205967</td>\n",
       "      <td>0.137253</td>\n",
       "      <td>0.039856</td>\n",
       "      <td>0.111847</td>\n",
       "    </tr>\n",
       "  </tbody>\n",
       "</table>\n",
       "<p>1 rows × 26 columns</p>\n",
       "</div>"
      ],
      "text/plain": [
       "   danceability  energy  key  loudness  mode  speechiness  acousticness  \\\n",
       "0         0.728   0.563    1    -8.053     0        0.134         0.621   \n",
       "\n",
       "   instrumentalness  liveness  valence  ...  duration_ms time_signature  \\\n",
       "0                 0     0.179    0.352  ...       217707              4   \n",
       "\n",
       "         artist                   song  \\\n",
       "0  Charlie Puth  We don't talk anymore   \n",
       "\n",
       "                                              lyrics   sadness       joy  \\\n",
       "0  We don't talk anymore, we don't talk anymore\\n...  0.445186  0.205967   \n",
       "\n",
       "       fear   disgust     anger  \n",
       "0  0.137253  0.039856  0.111847  \n",
       "\n",
       "[1 rows x 26 columns]"
      ]
     },
     "execution_count": 52,
     "metadata": {},
     "output_type": "execute_result"
    }
   ],
   "source": [
    "df_song"
   ]
  },
  {
   "cell_type": "code",
   "execution_count": 56,
   "metadata": {},
   "outputs": [
    {
     "name": "stdout",
     "output_type": "stream",
     "text": [
      "{'kind of dress', 'dress', 'good reason', 'love', 'lookin', 'game', 'holdin', 'door', 'reason', 'tonight', 'kinda dress', \"wearin' tonight\", 'anymore72', 'eyes', 'brain', 'lyin', 'way', 'shame', 'givin', 'woah', 'kind', 'time'} {'alight', 'ball', 'na-na-na', 'dong', 'honey', 'roll', 'game', 'life', 'home', 'milk', 'Life', 'diamond', 'talk', 'wall', 'boom', 'word', 'overload', 'morn', 'ya eyes', 'tea', 'stars', 'dyn', 'crowd', \"gettin' heavy\", 'stars tonight', 'pong', 'lebron', \"walkin' home\", 'gentlemen', 'stone', 'na', 'bass boom', 'soul', 'eyes', 'rock', 'Disco overload', 'disco', 'break of dawn', 'night alight', 'gettin', 'drum', 'sky', 'top', 'on?like?a?rolling', 'night', 'songs', 'hoo', 'Woo-hoo', 'funk', 'wanna', 'bass', 'game of ping', \"when?i'm\", 'Songs', 'Oh', 'tonight', 'light', 'ladies', 'Dyn-na-na-na', 'Ladies', 'break', 'Cup of milk', 'dynamite', 'lyrics', 'song', 'phone', 'Cause', 'jump?up', 'day', 'na-na', 'Light', 'shoes', 'fire', 'ma light', 'na-na-na-na', 'medicine', 'walkin', 'ding', 'money', 'Dynamite Lyrics', 'Embed', 'woah-oh-oh', 'cha', 'shinin', 'beat cha-ching', 'city', 'woo', 'friend', 'sing', 'little funk', 'cup', 'ice', 'Shinin', 'woah', 'dawn'}\n"
     ]
    }
   ],
   "source": [
    "def keyword_matching(l1, l2):\n",
    "    k1 = nlp.get_keywords(l1)\n",
    "    k2 = nlp.get_keywords(l2)\n",
    "    print(k1, k2)\n",
    "keyword_matching(df_song[\"lyrics\"][0], df[\"lyrics\"][0])"
   ]
  },
  {
   "cell_type": "code",
   "execution_count": 69,
   "metadata": {},
   "outputs": [],
   "source": [
    "# import gensim\n",
    "\n",
    "\n",
    "# from gensim.models import Word2Vec\n",
    "# model = gensim.models.KeyedVectors.load_word2vec_format(\"C:/Users/harsh/Downloads/GoogleNews-vectors-negative300.bin.gz\", binary=True)\n",
    "# #two sample sentences \n",
    "# s1 = 'the first sentence'\n",
    "# s2 = 'the second text'\n",
    "\n",
    "# #calculate distance between two sentences using WMD algorithm\n",
    "# distance = model.wmdistance(s1, s2)\n"
   ]
  },
  {
   "cell_type": "code",
   "execution_count": null,
   "metadata": {},
   "outputs": [],
   "source": []
  }
 ],
 "metadata": {
  "kernelspec": {
   "display_name": "Python 3.10.1 64-bit",
   "language": "python",
   "name": "python3"
  },
  "language_info": {
   "codemirror_mode": {
    "name": "ipython",
    "version": 3
   },
   "file_extension": ".py",
   "mimetype": "text/x-python",
   "name": "python",
   "nbconvert_exporter": "python",
   "pygments_lexer": "ipython3",
   "version": "3.10.1"
  },
  "orig_nbformat": 4,
  "vscode": {
   "interpreter": {
    "hash": "e8899eb02dfbc033aab5733bdae1bd213fa031d40331094008e8673d99ebab63"
   }
  }
 },
 "nbformat": 4,
 "nbformat_minor": 2
}
